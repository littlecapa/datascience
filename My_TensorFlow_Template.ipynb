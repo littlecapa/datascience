{
  "nbformat": 4,
  "nbformat_minor": 0,
  "metadata": {
    "colab": {
      "name": "My_TensorFlow-Template.ipynb",
      "provenance": [],
      "include_colab_link": true
    },
    "kernelspec": {
      "name": "python3",
      "display_name": "Python 3"
    }
  },
  "cells": [
    {
      "cell_type": "markdown",
      "metadata": {
        "id": "view-in-github",
        "colab_type": "text"
      },
      "source": [
        "<a href=\"https://colab.research.google.com/github/littlecapa/datascience/blob/master/My_TensorFlow_Template.ipynb\" target=\"_parent\"><img src=\"https://colab.research.google.com/assets/colab-badge.svg\" alt=\"Open In Colab\"/></a>"
      ]
    },
    {
      "cell_type": "markdown",
      "metadata": {
        "id": "F7ThfbiQl96l"
      },
      "source": [
        "##Installing TensorFlow\n",
        "To install TensorFlow on your local machine you can use pip.\n",
        "```console\n",
        "pip install tensorflow\n",
        "```"
      ]
    },
    {
      "cell_type": "markdown",
      "metadata": {
        "id": "JYQWyAJ2mez6"
      },
      "source": [
        "![alt text](https://)If you have a CUDA enabled GPU you can install the GPU version of TensorFlow. You will also need to install some other software which can be found here: https://www.tensorflow.org/install/gpu \n",
        "```console\n",
        "pip install tensorflow-gpu\n",
        "```"
      ]
    },
    {
      "cell_type": "markdown",
      "metadata": {
        "id": "JJjNMaSClWhg"
      },
      "source": [
        "## Importing TensorFlow\n",
        "The first step here is going to be to select the correct version of TensorFlow from within collabratory!\n"
      ]
    },
    {
      "cell_type": "code",
      "metadata": {
        "id": "vGcE8x2Gkw9K",
        "colab": {
          "base_uri": "https://localhost:8080/"
        },
        "outputId": "0b04526e-bb07-4d6d-d06f-bbc38f05862c"
      },
      "source": [
        "%tensorflow_version 2.x  # this line is not required unless you are in a notebook"
      ],
      "execution_count": null,
      "outputs": [
        {
          "output_type": "stream",
          "text": [
            "`%tensorflow_version` only switches the major version: 1.x or 2.x.\n",
            "You set: `2.x  # this line is not required unless you are in a notebook`. This will be interpreted as: `2.x`.\n",
            "\n",
            "\n",
            "TensorFlow 2.x selected.\n"
          ],
          "name": "stdout"
        }
      ]
    },
    {
      "cell_type": "code",
      "metadata": {
        "colab": {
          "base_uri": "https://localhost:8080/"
        },
        "id": "WKnuvXz65kDd",
        "outputId": "5d776909-8391-48b3-acbe-1afabd531efc"
      },
      "source": [
        "from __future__ import absolute_import, division, print_function, unicode_literals\n",
        "\n",
        "import numpy as np\n",
        "import pandas as pd\n",
        "import matplotlib.pyplot as plt\n",
        "from IPython.display import clear_output\n",
        "from six.moves import urllib\n",
        "\n",
        "import tensorflow.compat.v2.feature_column as fc\n",
        "\n",
        "import tensorflow as tf\n",
        "\n",
        "import sys\n",
        "\n",
        "print(tf.version)  # make sure the version is 2.x\n",
        "print(sys.version_info)"
      ],
      "execution_count": 2,
      "outputs": [
        {
          "output_type": "stream",
          "text": [
            "<module 'tensorflow._api.v2.version' from '/usr/local/lib/python3.6/dist-packages/tensorflow/_api/v2/version/__init__.py'>\n",
            "sys.version_info(major=3, minor=6, micro=9, releaselevel='final', serial=0)\n"
          ],
          "name": "stdout"
        }
      ]
    },
    {
      "cell_type": "markdown",
      "metadata": {
        "id": "YZ5d2-n06UJR"
      },
      "source": [
        "## Daten laden"
      ]
    },
    {
      "cell_type": "code",
      "metadata": {
        "id": "u9hshdRS6S-k"
      },
      "source": [
        "# Load dataset.\n",
        "dftrain = pd.read_csv('https://storage.googleapis.com/tf-datasets/titanic/train.csv') # training data\n",
        "dfeval = pd.read_csv('https://storage.googleapis.com/tf-datasets/titanic/eval.csv') # testing data\n",
        "y_train = dftrain.pop('survived')\n",
        "y_eval = dfeval.pop('survived')"
      ],
      "execution_count": 3,
      "outputs": []
    },
    {
      "cell_type": "markdown",
      "metadata": {
        "id": "cO2PGipj6_V4"
      },
      "source": [
        "## Daten auswerten"
      ]
    },
    {
      "cell_type": "code",
      "metadata": {
        "colab": {
          "base_uri": "https://localhost:8080/",
          "height": 204
        },
        "id": "c5ioPziP7ChG",
        "outputId": "6dca5ef7-517c-4e07-ba68-8fdd14ccd5bc"
      },
      "source": [
        "dftrain.head()"
      ],
      "execution_count": 6,
      "outputs": [
        {
          "output_type": "execute_result",
          "data": {
            "text/html": [
              "<div>\n",
              "<style scoped>\n",
              "    .dataframe tbody tr th:only-of-type {\n",
              "        vertical-align: middle;\n",
              "    }\n",
              "\n",
              "    .dataframe tbody tr th {\n",
              "        vertical-align: top;\n",
              "    }\n",
              "\n",
              "    .dataframe thead th {\n",
              "        text-align: right;\n",
              "    }\n",
              "</style>\n",
              "<table border=\"1\" class=\"dataframe\">\n",
              "  <thead>\n",
              "    <tr style=\"text-align: right;\">\n",
              "      <th></th>\n",
              "      <th>sex</th>\n",
              "      <th>age</th>\n",
              "      <th>n_siblings_spouses</th>\n",
              "      <th>parch</th>\n",
              "      <th>fare</th>\n",
              "      <th>class</th>\n",
              "      <th>deck</th>\n",
              "      <th>embark_town</th>\n",
              "      <th>alone</th>\n",
              "    </tr>\n",
              "  </thead>\n",
              "  <tbody>\n",
              "    <tr>\n",
              "      <th>0</th>\n",
              "      <td>male</td>\n",
              "      <td>22.0</td>\n",
              "      <td>1</td>\n",
              "      <td>0</td>\n",
              "      <td>7.2500</td>\n",
              "      <td>Third</td>\n",
              "      <td>unknown</td>\n",
              "      <td>Southampton</td>\n",
              "      <td>n</td>\n",
              "    </tr>\n",
              "    <tr>\n",
              "      <th>1</th>\n",
              "      <td>female</td>\n",
              "      <td>38.0</td>\n",
              "      <td>1</td>\n",
              "      <td>0</td>\n",
              "      <td>71.2833</td>\n",
              "      <td>First</td>\n",
              "      <td>C</td>\n",
              "      <td>Cherbourg</td>\n",
              "      <td>n</td>\n",
              "    </tr>\n",
              "    <tr>\n",
              "      <th>2</th>\n",
              "      <td>female</td>\n",
              "      <td>26.0</td>\n",
              "      <td>0</td>\n",
              "      <td>0</td>\n",
              "      <td>7.9250</td>\n",
              "      <td>Third</td>\n",
              "      <td>unknown</td>\n",
              "      <td>Southampton</td>\n",
              "      <td>y</td>\n",
              "    </tr>\n",
              "    <tr>\n",
              "      <th>3</th>\n",
              "      <td>female</td>\n",
              "      <td>35.0</td>\n",
              "      <td>1</td>\n",
              "      <td>0</td>\n",
              "      <td>53.1000</td>\n",
              "      <td>First</td>\n",
              "      <td>C</td>\n",
              "      <td>Southampton</td>\n",
              "      <td>n</td>\n",
              "    </tr>\n",
              "    <tr>\n",
              "      <th>4</th>\n",
              "      <td>male</td>\n",
              "      <td>28.0</td>\n",
              "      <td>0</td>\n",
              "      <td>0</td>\n",
              "      <td>8.4583</td>\n",
              "      <td>Third</td>\n",
              "      <td>unknown</td>\n",
              "      <td>Queenstown</td>\n",
              "      <td>y</td>\n",
              "    </tr>\n",
              "  </tbody>\n",
              "</table>\n",
              "</div>"
            ],
            "text/plain": [
              "      sex   age  n_siblings_spouses  parch  ...  class     deck  embark_town alone\n",
              "0    male  22.0                   1      0  ...  Third  unknown  Southampton     n\n",
              "1  female  38.0                   1      0  ...  First        C    Cherbourg     n\n",
              "2  female  26.0                   0      0  ...  Third  unknown  Southampton     y\n",
              "3  female  35.0                   1      0  ...  First        C  Southampton     n\n",
              "4    male  28.0                   0      0  ...  Third  unknown   Queenstown     y\n",
              "\n",
              "[5 rows x 9 columns]"
            ]
          },
          "metadata": {
            "tags": []
          },
          "execution_count": 6
        }
      ]
    },
    {
      "cell_type": "code",
      "metadata": {
        "colab": {
          "base_uri": "https://localhost:8080/",
          "height": 297
        },
        "id": "rPEB8ZU07miB",
        "outputId": "9e3b903e-705c-419c-e807-2b89fcc9e26e"
      },
      "source": [
        "dftrain.describe()"
      ],
      "execution_count": 7,
      "outputs": [
        {
          "output_type": "execute_result",
          "data": {
            "text/html": [
              "<div>\n",
              "<style scoped>\n",
              "    .dataframe tbody tr th:only-of-type {\n",
              "        vertical-align: middle;\n",
              "    }\n",
              "\n",
              "    .dataframe tbody tr th {\n",
              "        vertical-align: top;\n",
              "    }\n",
              "\n",
              "    .dataframe thead th {\n",
              "        text-align: right;\n",
              "    }\n",
              "</style>\n",
              "<table border=\"1\" class=\"dataframe\">\n",
              "  <thead>\n",
              "    <tr style=\"text-align: right;\">\n",
              "      <th></th>\n",
              "      <th>age</th>\n",
              "      <th>n_siblings_spouses</th>\n",
              "      <th>parch</th>\n",
              "      <th>fare</th>\n",
              "    </tr>\n",
              "  </thead>\n",
              "  <tbody>\n",
              "    <tr>\n",
              "      <th>count</th>\n",
              "      <td>627.000000</td>\n",
              "      <td>627.000000</td>\n",
              "      <td>627.000000</td>\n",
              "      <td>627.000000</td>\n",
              "    </tr>\n",
              "    <tr>\n",
              "      <th>mean</th>\n",
              "      <td>29.631308</td>\n",
              "      <td>0.545455</td>\n",
              "      <td>0.379585</td>\n",
              "      <td>34.385399</td>\n",
              "    </tr>\n",
              "    <tr>\n",
              "      <th>std</th>\n",
              "      <td>12.511818</td>\n",
              "      <td>1.151090</td>\n",
              "      <td>0.792999</td>\n",
              "      <td>54.597730</td>\n",
              "    </tr>\n",
              "    <tr>\n",
              "      <th>min</th>\n",
              "      <td>0.750000</td>\n",
              "      <td>0.000000</td>\n",
              "      <td>0.000000</td>\n",
              "      <td>0.000000</td>\n",
              "    </tr>\n",
              "    <tr>\n",
              "      <th>25%</th>\n",
              "      <td>23.000000</td>\n",
              "      <td>0.000000</td>\n",
              "      <td>0.000000</td>\n",
              "      <td>7.895800</td>\n",
              "    </tr>\n",
              "    <tr>\n",
              "      <th>50%</th>\n",
              "      <td>28.000000</td>\n",
              "      <td>0.000000</td>\n",
              "      <td>0.000000</td>\n",
              "      <td>15.045800</td>\n",
              "    </tr>\n",
              "    <tr>\n",
              "      <th>75%</th>\n",
              "      <td>35.000000</td>\n",
              "      <td>1.000000</td>\n",
              "      <td>0.000000</td>\n",
              "      <td>31.387500</td>\n",
              "    </tr>\n",
              "    <tr>\n",
              "      <th>max</th>\n",
              "      <td>80.000000</td>\n",
              "      <td>8.000000</td>\n",
              "      <td>5.000000</td>\n",
              "      <td>512.329200</td>\n",
              "    </tr>\n",
              "  </tbody>\n",
              "</table>\n",
              "</div>"
            ],
            "text/plain": [
              "              age  n_siblings_spouses       parch        fare\n",
              "count  627.000000          627.000000  627.000000  627.000000\n",
              "mean    29.631308            0.545455    0.379585   34.385399\n",
              "std     12.511818            1.151090    0.792999   54.597730\n",
              "min      0.750000            0.000000    0.000000    0.000000\n",
              "25%     23.000000            0.000000    0.000000    7.895800\n",
              "50%     28.000000            0.000000    0.000000   15.045800\n",
              "75%     35.000000            1.000000    0.000000   31.387500\n",
              "max     80.000000            8.000000    5.000000  512.329200"
            ]
          },
          "metadata": {
            "tags": []
          },
          "execution_count": 7
        }
      ]
    },
    {
      "cell_type": "code",
      "metadata": {
        "colab": {
          "base_uri": "https://localhost:8080/"
        },
        "id": "dSdlULvY7m4W",
        "outputId": "7fcc1030-a7b1-49c5-d2d1-4fe411a051e5"
      },
      "source": [
        "dftrain.shape"
      ],
      "execution_count": 8,
      "outputs": [
        {
          "output_type": "execute_result",
          "data": {
            "text/plain": [
              "(627, 9)"
            ]
          },
          "metadata": {
            "tags": []
          },
          "execution_count": 8
        }
      ]
    },
    {
      "cell_type": "code",
      "metadata": {
        "colab": {
          "base_uri": "https://localhost:8080/",
          "height": 282
        },
        "id": "0X6CpiON7nIK",
        "outputId": "aa5d42b2-3fe5-4440-c578-34e52a04eaee"
      },
      "source": [
        "dftrain.age.hist(bins=20)"
      ],
      "execution_count": 9,
      "outputs": [
        {
          "output_type": "execute_result",
          "data": {
            "text/plain": [
              "<matplotlib.axes._subplots.AxesSubplot at 0x7f46f775cfd0>"
            ]
          },
          "metadata": {
            "tags": []
          },
          "execution_count": 9
        },
        {
          "output_type": "display_data",
          "data": {
            "image/png": "[encoded data removed]",
            "text/plain": [
              "<Figure size 432x288 with 1 Axes>"
            ]
          },
          "metadata": {
            "tags": [],
            "needs_background": "light"
          }
        }
      ]
    },
    {
      "cell_type": "markdown",
      "metadata": {
        "id": "yadGeZlp8htH"
      },
      "source": [
        "## Daten kategorisieren\n",
        "\n",
        "- Numerische Daten werden übernommen\n",
        "- Für nicht nummerische Daten werden die Unique Werte gesucht"
      ]
    },
    {
      "cell_type": "code",
      "metadata": {
        "colab": {
          "base_uri": "https://localhost:8080/"
        },
        "id": "XP0zr2Ze8lfs",
        "outputId": "886c444c-eb58-4db7-a962-519b390ded61"
      },
      "source": [
        "CATEGORICAL_COLUMNS = ['sex', 'n_siblings_spouses', 'parch', 'class', 'deck',\n",
        "                       'embark_town', 'alone']\n",
        "NUMERIC_COLUMNS = ['age', 'fare']\n",
        "\n",
        "feature_columns = []\n",
        "for feature_name in CATEGORICAL_COLUMNS:\n",
        "  vocabulary = dftrain[feature_name].unique()  # gets a list of all unique values from given feature column\n",
        "  feature_columns.append(tf.feature_column.categorical_column_with_vocabulary_list(feature_name, vocabulary))\n",
        "\n",
        "\n",
        "for feature_name in NUMERIC_COLUMNS:\n",
        "  feature_columns.append(tf.feature_column.numeric_column(feature_name, dtype=tf.float32))\n",
        "\n",
        "print(feature_columns)"
      ],
      "execution_count": 42,
      "outputs": [
        {
          "output_type": "stream",
          "text": [
            "[VocabularyListCategoricalColumn(key='sex', vocabulary_list=('male', 'female'), dtype=tf.string, default_value=-1, num_oov_buckets=0), VocabularyListCategoricalColumn(key='n_siblings_spouses', vocabulary_list=(1, 0, 3, 4, 2, 5, 8), dtype=tf.int64, default_value=-1, num_oov_buckets=0), VocabularyListCategoricalColumn(key='parch', vocabulary_list=(0, 1, 2, 5, 3, 4), dtype=tf.int64, default_value=-1, num_oov_buckets=0), VocabularyListCategoricalColumn(key='class', vocabulary_list=('Third', 'First', 'Second'), dtype=tf.string, default_value=-1, num_oov_buckets=0), VocabularyListCategoricalColumn(key='deck', vocabulary_list=('unknown', 'C', 'G', 'A', 'B', 'D', 'F', 'E'), dtype=tf.string, default_value=-1, num_oov_buckets=0), VocabularyListCategoricalColumn(key='embark_town', vocabulary_list=('Southampton', 'Cherbourg', 'Queenstown', 'unknown'), dtype=tf.string, default_value=-1, num_oov_buckets=0), VocabularyListCategoricalColumn(key='alone', vocabulary_list=('n', 'y'), dtype=tf.string, default_value=-1, num_oov_buckets=0), NumericColumn(key='age', shape=(1,), default_value=None, dtype=tf.float32, normalizer_fn=None), NumericColumn(key='fare', shape=(1,), default_value=None, dtype=tf.float32, normalizer_fn=None)]\n"
          ],
          "name": "stdout"
        }
      ]
    },
    {
      "cell_type": "markdown",
      "metadata": {
        "id": "QICLGhbEBVwq"
      },
      "source": [
        "##Input Funktion"
      ]
    },
    {
      "cell_type": "code",
      "metadata": {
        "id": "do8bXKSVBVCy"
      },
      "source": [
        "def make_input_fn(data_df, label_df, num_epochs=15, shuffle=True, batch_size=32):\n",
        "  def input_function():  # inner function, this will be returned\n",
        "    ds = tf.data.Dataset.from_tensor_slices((dict(data_df), label_df))  # create tf.data.Dataset object with data and its label\n",
        "    if shuffle:\n",
        "      ds = ds.shuffle(1000)  # randomize order of data\n",
        "    ds = ds.batch(batch_size).repeat(num_epochs)  # split dataset into batches of 32 and repeat process for number of epochs\n",
        "    return ds  # return a batch of the dataset\n",
        "  return input_function  # return a function object for use\n",
        "\n",
        "train_input_fn = make_input_fn(dftrain, y_train)  # here we will call the input_function that was returned to us to get a dataset object we can feed to the model\n",
        "eval_input_fn = make_input_fn(dfeval, y_eval, num_epochs=1, shuffle=False)\n"
      ],
      "execution_count": 43,
      "outputs": []
    },
    {
      "cell_type": "markdown",
      "metadata": {
        "id": "rlFML1drCgNl"
      },
      "source": [
        "##Model erstellen"
      ]
    },
    {
      "cell_type": "code",
      "metadata": {
        "colab": {
          "base_uri": "https://localhost:8080/"
        },
        "id": "_JzHl6iwCjTQ",
        "outputId": "39577460-023e-4f2f-c35a-193e18eafd45"
      },
      "source": [
        "linear_est = tf.estimator.LinearClassifier(feature_columns=feature_columns)"
      ],
      "execution_count": 44,
      "outputs": [
        {
          "output_type": "stream",
          "text": [
            "INFO:tensorflow:Using default config.\n",
            "WARNING:tensorflow:Using temporary folder as model directory: /tmp/tmpdri48yt9\n",
            "INFO:tensorflow:Using config: {'_model_dir': '/tmp/tmpdri48yt9', '_tf_random_seed': None, '_save_summary_steps': 100, '_save_checkpoints_steps': None, '_save_checkpoints_secs': 600, '_session_config': allow_soft_placement: true\n",
            "graph_options {\n",
            "  rewrite_options {\n",
            "    meta_optimizer_iterations: ONE\n",
            "  }\n",
            "}\n",
            ", '_keep_checkpoint_max': 5, '_keep_checkpoint_every_n_hours': 10000, '_log_step_count_steps': 100, '_train_distribute': None, '_device_fn': None, '_protocol': None, '_eval_distribute': None, '_experimental_distribute': None, '_experimental_max_worker_delay_secs': None, '_session_creation_timeout_secs': 7200, '_checkpoint_save_graph_def': True, '_service': None, '_cluster_spec': ClusterSpec({}), '_task_type': 'worker', '_task_id': 0, '_global_id_in_cluster': 0, '_master': '', '_evaluation_master': '', '_is_chief': True, '_num_ps_replicas': 0, '_num_worker_replicas': 1}\n"
          ],
          "name": "stdout"
        }
      ]
    },
    {
      "cell_type": "markdown",
      "metadata": {
        "id": "iACA-6z4CnnU"
      },
      "source": [
        "##Model trainieren"
      ]
    },
    {
      "cell_type": "code",
      "metadata": {
        "colab": {
          "base_uri": "https://localhost:8080/"
        },
        "id": "bqZz4QTHCpTP",
        "outputId": "b9983488-13a6-4453-8099-fd80afdb8ef6"
      },
      "source": [
        "linear_est.train(train_input_fn)  # train\n"
      ],
      "execution_count": 47,
      "outputs": [
        {
          "output_type": "stream",
          "text": [
            "INFO:tensorflow:Calling model_fn.\n"
          ],
          "name": "stdout"
        },
        {
          "output_type": "stream",
          "text": [
            "/usr/local/lib/python3.6/dist-packages/tensorflow/python/keras/engine/base_layer_v1.py:1727: UserWarning: `layer.add_variable` is deprecated and will be removed in a future version. Please use `layer.add_weight` method instead.\n",
            "  warnings.warn('`layer.add_variable` is deprecated and '\n"
          ],
          "name": "stderr"
        },
        {
          "output_type": "stream",
          "text": [
            "INFO:tensorflow:Done calling model_fn.\n",
            "INFO:tensorflow:Create CheckpointSaverHook.\n",
            "INFO:tensorflow:Graph was finalized.\n",
            "INFO:tensorflow:Restoring parameters from /tmp/tmpdri48yt9/model.ckpt-300\n",
            "INFO:tensorflow:Running local_init_op.\n",
            "INFO:tensorflow:Done running local_init_op.\n",
            "INFO:tensorflow:Calling checkpoint listeners before saving checkpoint 300...\n",
            "INFO:tensorflow:Saving checkpoints for 300 into /tmp/tmpdri48yt9/model.ckpt.\n",
            "INFO:tensorflow:Calling checkpoint listeners after saving checkpoint 300...\n",
            "INFO:tensorflow:loss = 0.34832662, step = 300\n",
            "INFO:tensorflow:global_step/sec: 315.326\n",
            "INFO:tensorflow:loss = 0.4840269, step = 400 (0.319 sec)\n",
            "INFO:tensorflow:global_step/sec: 710.711\n",
            "INFO:tensorflow:loss = 0.4397037, step = 500 (0.140 sec)\n",
            "INFO:tensorflow:Calling checkpoint listeners before saving checkpoint 600...\n",
            "INFO:tensorflow:Saving checkpoints for 600 into /tmp/tmpdri48yt9/model.ckpt.\n",
            "INFO:tensorflow:Calling checkpoint listeners after saving checkpoint 600...\n",
            "INFO:tensorflow:Loss for final step: 0.4571465.\n",
            "INFO:tensorflow:Calling model_fn.\n",
            "INFO:tensorflow:Done calling model_fn.\n",
            "INFO:tensorflow:Starting evaluation at 2021-01-23T16:44:22Z\n",
            "INFO:tensorflow:Graph was finalized.\n",
            "INFO:tensorflow:Restoring parameters from /tmp/tmpdri48yt9/model.ckpt-600\n",
            "INFO:tensorflow:Running local_init_op.\n",
            "INFO:tensorflow:Done running local_init_op.\n",
            "INFO:tensorflow:Inference Time : 0.59937s\n",
            "INFO:tensorflow:Finished evaluation at 2021-01-23-16:44:23\n",
            "INFO:tensorflow:Saving dict for global step 600: accuracy = 0.7765151, accuracy_baseline = 0.625, auc = 0.82243645, auc_precision_recall = 0.7778601, average_loss = 0.49355668, global_step = 600, label/mean = 0.375, loss = 0.48194396, precision = 0.74390244, prediction/mean = 0.33314142, recall = 0.61616164\n",
            "INFO:tensorflow:Saving 'checkpoint_path' summary for global step 600: /tmp/tmpdri48yt9/model.ckpt-600\n"
          ],
          "name": "stdout"
        }
      ]
    },
    {
      "cell_type": "markdown",
      "metadata": {
        "id": "k90lCf4pJliP"
      },
      "source": [
        "##Model evaluieren"
      ]
    },
    {
      "cell_type": "code",
      "metadata": {
        "colab": {
          "base_uri": "https://localhost:8080/"
        },
        "id": "8uwWILO5Joo2",
        "outputId": "e0d3866a-0d44-4ae7-a5c8-246a1b9b6f30"
      },
      "source": [
        "result = linear_est.evaluate(eval_input_fn)  # get model metrics/stats by testing on tetsing data\n",
        "print (result)"
      ],
      "execution_count": 50,
      "outputs": [
        {
          "output_type": "stream",
          "text": [
            "INFO:tensorflow:Calling model_fn.\n"
          ],
          "name": "stdout"
        },
        {
          "output_type": "stream",
          "text": [
            "/usr/local/lib/python3.6/dist-packages/tensorflow/python/keras/engine/base_layer_v1.py:1727: UserWarning: `layer.add_variable` is deprecated and will be removed in a future version. Please use `layer.add_weight` method instead.\n",
            "  warnings.warn('`layer.add_variable` is deprecated and '\n"
          ],
          "name": "stderr"
        },
        {
          "output_type": "stream",
          "text": [
            "INFO:tensorflow:Done calling model_fn.\n",
            "INFO:tensorflow:Starting evaluation at 2021-01-23T16:49:51Z\n",
            "INFO:tensorflow:Graph was finalized.\n",
            "INFO:tensorflow:Restoring parameters from /tmp/tmpdri48yt9/model.ckpt-600\n",
            "INFO:tensorflow:Running local_init_op.\n",
            "INFO:tensorflow:Done running local_init_op.\n",
            "INFO:tensorflow:Inference Time : 0.61508s\n",
            "INFO:tensorflow:Finished evaluation at 2021-01-23-16:49:52\n",
            "INFO:tensorflow:Saving dict for global step 600: accuracy = 0.7765151, accuracy_baseline = 0.625, auc = 0.82243645, auc_precision_recall = 0.7778601, average_loss = 0.49355668, global_step = 600, label/mean = 0.375, loss = 0.48194396, precision = 0.74390244, prediction/mean = 0.33314142, recall = 0.61616164\n",
            "INFO:tensorflow:Saving 'checkpoint_path' summary for global step 600: /tmp/tmpdri48yt9/model.ckpt-600\n",
            "{'accuracy': 0.7765151, 'accuracy_baseline': 0.625, 'auc': 0.82243645, 'auc_precision_recall': 0.7778601, 'average_loss': 0.49355668, 'label/mean': 0.375, 'loss': 0.48194396, 'precision': 0.74390244, 'prediction/mean': 0.33314142, 'recall': 0.61616164, 'global_step': 600}\n"
          ],
          "name": "stdout"
        }
      ]
    },
    {
      "cell_type": "markdown",
      "metadata": {
        "id": "_Moj5A5wDcyK"
      },
      "source": [
        "##Predict"
      ]
    },
    {
      "cell_type": "code",
      "metadata": {
        "colab": {
          "base_uri": "https://localhost:8080/"
        },
        "id": "aGBPSE3JJErQ",
        "outputId": "1d17f75a-c8f3-4f0d-a54f-5e786e50d912"
      },
      "source": [
        "result = list(linear_est.predict(eval_input_fn))\n",
        "i=0\n",
        "right = 0\n",
        "for r in result:\n",
        "  print (r['probabilities'][1], y_eval[i])\n",
        "  if (r['probabilities'][1] <0.5):\n",
        "    if y_eval[i]==0:\n",
        "      right += 1\n",
        "  else:\n",
        "    if y_eval[i]==1:\n",
        "      right += 1\n",
        "  i += 1\n",
        "\n",
        "print (right)"
      ],
      "execution_count": 73,
      "outputs": [
        {
          "output_type": "stream",
          "text": [
            "INFO:tensorflow:Calling model_fn.\n"
          ],
          "name": "stdout"
        },
        {
          "output_type": "stream",
          "text": [
            "/usr/local/lib/python3.6/dist-packages/tensorflow/python/keras/engine/base_layer_v1.py:1727: UserWarning: `layer.add_variable` is deprecated and will be removed in a future version. Please use `layer.add_weight` method instead.\n",
            "  warnings.warn('`layer.add_variable` is deprecated and '\n"
          ],
          "name": "stderr"
        },
        {
          "output_type": "stream",
          "text": [
            "INFO:tensorflow:Done calling model_fn.\n",
            "INFO:tensorflow:Graph was finalized.\n",
            "INFO:tensorflow:Restoring parameters from /tmp/tmpdri48yt9/model.ckpt-600\n",
            "INFO:tensorflow:Running local_init_op.\n",
            "INFO:tensorflow:Done running local_init_op.\n",
            "0.059881438 0\n",
            "0.25924864 0\n",
            "0.6348704 1\n",
            "0.55741924 1\n",
            "0.22819915 1\n",
            "0.76141196 1\n",
            "0.41817442 0\n",
            "0.09465942 0\n",
            "0.59289324 0\n",
            "0.73506576 1\n",
            "0.6689162 1\n",
            "0.09489478 0\n",
            "0.85714316 1\n",
            "0.32480553 0\n",
            "0.8510086 1\n",
            "0.35219997 0\n",
            "0.12660748 0\n",
            "0.8370292 1\n",
            "0.20042722 1\n",
            "0.073017634 0\n",
            "0.09792672 0\n",
            "0.065834045 0\n",
            "0.67186964 1\n",
            "0.054261543 0\n",
            "0.68778443 0\n",
            "0.47837964 0\n",
            "0.07583717 0\n",
            "0.11945392 0\n",
            "0.19774853 1\n",
            "0.83728737 1\n",
            "0.102594405 0\n",
            "0.7508174 1\n",
            "0.16183417 0\n",
            "0.6415412 1\n",
            "0.19692835 0\n",
            "0.078157954 1\n",
            "0.11259969 0\n",
            "0.09565519 0\n",
            "0.8099512 1\n",
            "0.07065742 0\n",
            "0.6823197 1\n",
            "0.08539444 1\n",
            "0.25501522 0\n",
            "0.22714765 0\n",
            "0.12929255 0\n",
            "0.84207016 1\n",
            "0.094777025 0\n",
            "0.2267321 0\n",
            "0.34142426 1\n",
            "0.27689967 0\n",
            "0.07659071 0\n",
            "0.19275023 0\n",
            "0.045689177 0\n",
            "0.06888944 0\n",
            "0.104160994 1\n",
            "0.08680741 0\n",
            "0.13923615 0\n",
            "0.90959036 1\n",
            "0.1524587 0\n",
            "0.075568415 0\n",
            "0.0875597 1\n",
            "0.45165822 1\n",
            "0.17053954 0\n",
            "0.79914504 1\n",
            "0.1469391 0\n",
            "0.63961136 0\n",
            "0.3093171 1\n",
            "0.059954774 0\n",
            "0.07184251 0\n",
            "0.61334926 1\n",
            "0.82904494 1\n",
            "0.26958117 0\n",
            "0.02720327 0\n",
            "0.10090367 1\n",
            "0.10182235 0\n",
            "0.06961964 1\n",
            "0.09180982 0\n",
            "0.09565519 1\n",
            "0.7141637 1\n",
            "0.9235825 1\n",
            "0.64503413 0\n",
            "0.32480553 0\n",
            "0.13882302 0\n",
            "0.74722075 0\n",
            "0.058942873 1\n",
            "0.1360829 1\n",
            "0.63120914 1\n",
            "0.064029135 0\n",
            "0.80080163 1\n",
            "0.84303415 1\n",
            "0.9461448 1\n",
            "0.11962266 0\n",
            "0.07422372 0\n",
            "0.8793392 1\n",
            "0.46138683 1\n",
            "0.07141865 1\n",
            "0.19471037 1\n",
            "0.04705824 0\n",
            "0.08772601 0\n",
            "0.19033705 0\n",
            "0.07123607 0\n",
            "0.6251555 1\n",
            "0.1539967 0\n",
            "0.4617581 0\n",
            "0.66499674 1\n",
            "0.15897204 0\n",
            "0.8095668 1\n",
            "0.78133196 1\n",
            "0.71833855 1\n",
            "0.05531549 0\n",
            "0.77264094 1\n",
            "0.68013245 0\n",
            "0.67720205 0\n",
            "0.03500058 0\n",
            "0.738663 1\n",
            "0.6280584 0\n",
            "0.073147714 0\n",
            "0.66419333 0\n",
            "0.07606499 0\n",
            "0.75738156 1\n",
            "0.487104 0\n",
            "0.08826413 0\n",
            "0.29713506 1\n",
            "0.8382591 1\n",
            "0.070764154 0\n",
            "0.0754503 0\n",
            "0.6149236 1\n",
            "0.09389293 0\n",
            "0.07879259 0\n",
            "0.16684063 0\n",
            "0.053831402 0\n",
            "0.6586417 0\n",
            "0.09215353 0\n",
            "0.036101423 0\n",
            "0.07065742 0\n",
            "0.09541445 0\n",
            "0.08672733 0\n",
            "0.11267176 0\n",
            "0.82774705 1\n",
            "0.07022756 0\n",
            "0.08616081 0\n",
            "0.6692098 0\n",
            "0.88839865 1\n",
            "0.06508993 0\n",
            "0.09092413 1\n",
            "0.0754503 0\n",
            "0.4670473 1\n",
            "0.07966008 0\n",
            "0.12085502 0\n",
            "0.052457348 0\n",
            "0.12085009 0\n",
            "0.07065871 0\n",
            "0.1220117 1\n",
            "0.07587596 0\n",
            "0.2657696 1\n",
            "0.1452997 1\n",
            "0.0805439 0\n",
            "0.14725012 0\n",
            "0.61407095 0\n",
            "0.12085009 0\n",
            "0.6689162 1\n",
            "0.094661124 0\n",
            "0.9219193 1\n",
            "0.72475046 0\n",
            "0.066231966 1\n",
            "0.7502611 1\n",
            "0.05657587 0\n",
            "0.11913133 0\n",
            "0.9233537 1\n",
            "0.091668814 0\n",
            "0.75021213 1\n",
            "0.075568415 0\n",
            "0.19697908 0\n",
            "0.044266626 0\n",
            "0.09389293 0\n",
            "0.62445813 0\n",
            "0.9008882 1\n",
            "0.122744374 0\n",
            "0.23041166 1\n",
            "0.09484371 0\n",
            "0.08735504 0\n",
            "0.28090256 0\n",
            "0.15249185 0\n",
            "0.923611 1\n",
            "0.36353213 0\n",
            "0.101057276 0\n",
            "0.21762224 1\n",
            "0.6687237 1\n",
            "0.744268 0\n",
            "0.1716694 0\n",
            "0.08401365 0\n",
            "0.08247612 0\n",
            "0.052664552 0\n",
            "0.801788 1\n",
            "0.038781703 0\n",
            "0.08456111 0\n",
            "0.35424355 0\n",
            "0.6679738 0\n",
            "0.17859624 0\n",
            "0.038916167 0\n",
            "0.13260093 0\n",
            "0.068756 0\n",
            "0.044266626 0\n",
            "0.07827636 0\n",
            "0.58364123 1\n",
            "0.77326035 0\n",
            "0.08538862 0\n",
            "0.6484286 1\n",
            "0.4147392 1\n",
            "0.06910816 0\n",
            "0.11467034 0\n",
            "0.123115465 0\n",
            "0.09714594 0\n",
            "0.6689466 1\n",
            "0.068378165 0\n",
            "0.39960593 0\n",
            "0.37180948 1\n",
            "0.06845526 1\n",
            "0.12701225 0\n",
            "0.7592626 1\n",
            "0.40185174 0\n",
            "0.08523888 0\n",
            "0.3745996 1\n",
            "0.20094858 0\n",
            "0.8134629 1\n",
            "0.71479815 1\n",
            "0.11125326 0\n",
            "0.6490315 0\n",
            "0.08469963 0\n",
            "0.12085502 0\n",
            "0.57801306 1\n",
            "0.093904614 0\n",
            "0.42920595 1\n",
            "0.82008153 1\n",
            "0.083873056 0\n",
            "0.695201 1\n",
            "0.06643443 0\n",
            "0.25808042 1\n",
            "0.0788094 1\n",
            "0.69455135 0\n",
            "0.4432112 0\n",
            "0.04656204 0\n",
            "0.21517678 0\n",
            "0.8578047 1\n",
            "0.27946475 1\n",
            "0.67415756 1\n",
            "0.36242887 1\n",
            "0.039960723 1\n",
            "0.09785812 0\n",
            "0.10686764 0\n",
            "0.015808707 0\n",
            "0.86503977 0\n",
            "0.6392157 0\n",
            "0.12085009 0\n",
            "0.19388151 0\n",
            "0.8560029 1\n",
            "0.15710655 0\n",
            "0.07434777 0\n",
            "0.61807394 1\n",
            "0.7593629 1\n",
            "0.06409513 0\n",
            "0.34266216 0\n",
            "0.1524587 0\n",
            "0.30794817 1\n",
            "205\n"
          ],
          "name": "stdout"
        }
      ]
    },
    {
      "cell_type": "code",
      "metadata": {
        "colab": {
          "base_uri": "https://localhost:8080/"
        },
        "id": "_SetD_idQtOk",
        "outputId": "6e0c6b0b-6c84-44d6-a7e1-ab539b01a31b"
      },
      "source": [
        "y_eval.head\n",
        "print (y_eval[0])"
      ],
      "execution_count": 67,
      "outputs": [
        {
          "output_type": "stream",
          "text": [
            "0\n"
          ],
          "name": "stdout"
        }
      ]
    }
  ]
}