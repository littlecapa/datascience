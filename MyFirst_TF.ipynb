{
  "nbformat": 4,
  "nbformat_minor": 0,
  "metadata": {
    "colab": {
      "name": "MyFirst_TF.ipynb",
      "provenance": [],
      "collapsed_sections": [],
      "toc_visible": true,
      "include_colab_link": true
    },
    "kernelspec": {
      "name": "python3",
      "display_name": "Python 3"
    }
  },
  "cells": [
    {
      "cell_type": "markdown",
      "metadata": {
        "id": "view-in-github",
        "colab_type": "text"
      },
      "source": [
        "<a href=\"https://colab.research.google.com/github/littlecapa/datascience/blob/master/MyFirst_TF.ipynb\" target=\"_parent\"><img src=\"https://colab.research.google.com/assets/colab-badge.svg\" alt=\"Open In Colab\"/></a>"
      ]
    },
    {
      "cell_type": "markdown",
      "metadata": {
        "id": "F7ThfbiQl96l"
      },
      "source": [
        "##Installing TensorFlow\n",
        "To install TensorFlow on your local machine you can use pip.\n",
        "```console\n",
        "pip install tensorflow\n",
        "```"
      ]
    },
    {
      "cell_type": "markdown",
      "metadata": {
        "id": "JYQWyAJ2mez6"
      },
      "source": [
        "![alt text](https://)If you have a CUDA enabled GPU you can install the GPU version of TensorFlow. You will also need to install some other software which can be found here: https://www.tensorflow.org/install/gpu \n",
        "```console\n",
        "pip install tensorflow-gpu\n",
        "```"
      ]
    },
    {
      "cell_type": "markdown",
      "metadata": {
        "id": "JJjNMaSClWhg"
      },
      "source": [
        "## Importing TensorFlow\n",
        "The first step here is going to be to select the correct version of TensorFlow from within collabratory!\n"
      ]
    },
    {
      "cell_type": "code",
      "metadata": {
        "id": "vGcE8x2Gkw9K",
        "colab": {
          "base_uri": "https://localhost:8080/"
        },
        "outputId": "59ecb335-3fce-4679-f784-6445ea7f1960"
      },
      "source": [
        "%tensorflow_version 2.x  # this line is not required unless you are in a notebook"
      ],
      "execution_count": 1,
      "outputs": [
        {
          "output_type": "stream",
          "text": [
            "`%tensorflow_version` only switches the major version: 1.x or 2.x.\n",
            "You set: `2.x  # this line is not required unless you are in a notebook`. This will be interpreted as: `2.x`.\n",
            "\n",
            "\n",
            "TensorFlow 2.x selected.\n"
          ],
          "name": "stdout"
        }
      ]
    },
    {
      "cell_type": "code",
      "metadata": {
        "colab": {
          "base_uri": "https://localhost:8080/"
        },
        "id": "WKnuvXz65kDd",
        "outputId": "c790a105-54e9-41e0-e868-578cf6a418e5"
      },
      "source": [
        "from __future__ import absolute_import, division, print_function, unicode_literals\n",
        "\n",
        "import numpy as np\n",
        "import pandas as pd\n",
        "import matplotlib.pyplot as plt\n",
        "from IPython.display import clear_output\n",
        "from six.moves import urllib\n",
        "\n",
        "import tensorflow.compat.v2.feature_column as fc\n",
        "\n",
        "import tensorflow as tf\n",
        "\n",
        "import sys\n",
        "\n",
        "print(tf.version)  # make sure the version is 2.x\n",
        "print(sys.version_info)"
      ],
      "execution_count": 2,
      "outputs": [
        {
          "output_type": "stream",
          "text": [
            "<module 'tensorflow._api.v2.version' from '/usr/local/lib/python3.6/dist-packages/tensorflow/_api/v2/version/__init__.py'>\n",
            "sys.version_info(major=3, minor=6, micro=9, releaselevel='final', serial=0)\n"
          ],
          "name": "stdout"
        }
      ]
    },
    {
      "cell_type": "markdown",
      "metadata": {
        "id": "YZ5d2-n06UJR"
      },
      "source": [
        "## Daten laden"
      ]
    },
    {
      "cell_type": "code",
      "metadata": {
        "id": "u9hshdRS6S-k"
      },
      "source": [
        "# Load dataset.\n",
        "dftrain = pd.read_csv('https://storage.googleapis.com/tf-datasets/titanic/train.csv') # training data\n",
        "dfeval = pd.read_csv('https://storage.googleapis.com/tf-datasets/titanic/eval.csv') # testing data\n",
        "y_train = dftrain.pop('survived')\n",
        "y_eval = dfeval.pop('survived')"
      ],
      "execution_count": 3,
      "outputs": []
    },
    {
      "cell_type": "markdown",
      "metadata": {
        "id": "cO2PGipj6_V4"
      },
      "source": [
        "## Daten auswerten"
      ]
    },
    {
      "cell_type": "code",
      "metadata": {
        "colab": {
          "base_uri": "https://localhost:8080/",
          "height": 204
        },
        "id": "c5ioPziP7ChG",
        "outputId": "832c151d-0ffc-4827-d74a-73f9363b7b49"
      },
      "source": [
        "dftrain.head()"
      ],
      "execution_count": 4,
      "outputs": [
        {
          "output_type": "execute_result",
          "data": {
            "text/html": [
              "<div>\n",
              "<style scoped>\n",
              "    .dataframe tbody tr th:only-of-type {\n",
              "        vertical-align: middle;\n",
              "    }\n",
              "\n",
              "    .dataframe tbody tr th {\n",
              "        vertical-align: top;\n",
              "    }\n",
              "\n",
              "    .dataframe thead th {\n",
              "        text-align: right;\n",
              "    }\n",
              "</style>\n",
              "<table border=\"1\" class=\"dataframe\">\n",
              "  <thead>\n",
              "    <tr style=\"text-align: right;\">\n",
              "      <th></th>\n",
              "      <th>sex</th>\n",
              "      <th>age</th>\n",
              "      <th>n_siblings_spouses</th>\n",
              "      <th>parch</th>\n",
              "      <th>fare</th>\n",
              "      <th>class</th>\n",
              "      <th>deck</th>\n",
              "      <th>embark_town</th>\n",
              "      <th>alone</th>\n",
              "    </tr>\n",
              "  </thead>\n",
              "  <tbody>\n",
              "    <tr>\n",
              "      <th>0</th>\n",
              "      <td>male</td>\n",
              "      <td>22.0</td>\n",
              "      <td>1</td>\n",
              "      <td>0</td>\n",
              "      <td>7.2500</td>\n",
              "      <td>Third</td>\n",
              "      <td>unknown</td>\n",
              "      <td>Southampton</td>\n",
              "      <td>n</td>\n",
              "    </tr>\n",
              "    <tr>\n",
              "      <th>1</th>\n",
              "      <td>female</td>\n",
              "      <td>38.0</td>\n",
              "      <td>1</td>\n",
              "      <td>0</td>\n",
              "      <td>71.2833</td>\n",
              "      <td>First</td>\n",
              "      <td>C</td>\n",
              "      <td>Cherbourg</td>\n",
              "      <td>n</td>\n",
              "    </tr>\n",
              "    <tr>\n",
              "      <th>2</th>\n",
              "      <td>female</td>\n",
              "      <td>26.0</td>\n",
              "      <td>0</td>\n",
              "      <td>0</td>\n",
              "      <td>7.9250</td>\n",
              "      <td>Third</td>\n",
              "      <td>unknown</td>\n",
              "      <td>Southampton</td>\n",
              "      <td>y</td>\n",
              "    </tr>\n",
              "    <tr>\n",
              "      <th>3</th>\n",
              "      <td>female</td>\n",
              "      <td>35.0</td>\n",
              "      <td>1</td>\n",
              "      <td>0</td>\n",
              "      <td>53.1000</td>\n",
              "      <td>First</td>\n",
              "      <td>C</td>\n",
              "      <td>Southampton</td>\n",
              "      <td>n</td>\n",
              "    </tr>\n",
              "    <tr>\n",
              "      <th>4</th>\n",
              "      <td>male</td>\n",
              "      <td>28.0</td>\n",
              "      <td>0</td>\n",
              "      <td>0</td>\n",
              "      <td>8.4583</td>\n",
              "      <td>Third</td>\n",
              "      <td>unknown</td>\n",
              "      <td>Queenstown</td>\n",
              "      <td>y</td>\n",
              "    </tr>\n",
              "  </tbody>\n",
              "</table>\n",
              "</div>"
            ],
            "text/plain": [
              "      sex   age  n_siblings_spouses  parch  ...  class     deck  embark_town alone\n",
              "0    male  22.0                   1      0  ...  Third  unknown  Southampton     n\n",
              "1  female  38.0                   1      0  ...  First        C    Cherbourg     n\n",
              "2  female  26.0                   0      0  ...  Third  unknown  Southampton     y\n",
              "3  female  35.0                   1      0  ...  First        C  Southampton     n\n",
              "4    male  28.0                   0      0  ...  Third  unknown   Queenstown     y\n",
              "\n",
              "[5 rows x 9 columns]"
            ]
          },
          "metadata": {
            "tags": []
          },
          "execution_count": 4
        }
      ]
    },
    {
      "cell_type": "code",
      "metadata": {
        "colab": {
          "base_uri": "https://localhost:8080/",
          "height": 297
        },
        "id": "rPEB8ZU07miB",
        "outputId": "0e0cc7e1-9e6c-41cb-9049-02925470d748"
      },
      "source": [
        "dftrain.describe()"
      ],
      "execution_count": 5,
      "outputs": [
        {
          "output_type": "execute_result",
          "data": {
            "text/html": [
              "<div>\n",
              "<style scoped>\n",
              "    .dataframe tbody tr th:only-of-type {\n",
              "        vertical-align: middle;\n",
              "    }\n",
              "\n",
              "    .dataframe tbody tr th {\n",
              "        vertical-align: top;\n",
              "    }\n",
              "\n",
              "    .dataframe thead th {\n",
              "        text-align: right;\n",
              "    }\n",
              "</style>\n",
              "<table border=\"1\" class=\"dataframe\">\n",
              "  <thead>\n",
              "    <tr style=\"text-align: right;\">\n",
              "      <th></th>\n",
              "      <th>age</th>\n",
              "      <th>n_siblings_spouses</th>\n",
              "      <th>parch</th>\n",
              "      <th>fare</th>\n",
              "    </tr>\n",
              "  </thead>\n",
              "  <tbody>\n",
              "    <tr>\n",
              "      <th>count</th>\n",
              "      <td>627.000000</td>\n",
              "      <td>627.000000</td>\n",
              "      <td>627.000000</td>\n",
              "      <td>627.000000</td>\n",
              "    </tr>\n",
              "    <tr>\n",
              "      <th>mean</th>\n",
              "      <td>29.631308</td>\n",
              "      <td>0.545455</td>\n",
              "      <td>0.379585</td>\n",
              "      <td>34.385399</td>\n",
              "    </tr>\n",
              "    <tr>\n",
              "      <th>std</th>\n",
              "      <td>12.511818</td>\n",
              "      <td>1.151090</td>\n",
              "      <td>0.792999</td>\n",
              "      <td>54.597730</td>\n",
              "    </tr>\n",
              "    <tr>\n",
              "      <th>min</th>\n",
              "      <td>0.750000</td>\n",
              "      <td>0.000000</td>\n",
              "      <td>0.000000</td>\n",
              "      <td>0.000000</td>\n",
              "    </tr>\n",
              "    <tr>\n",
              "      <th>25%</th>\n",
              "      <td>23.000000</td>\n",
              "      <td>0.000000</td>\n",
              "      <td>0.000000</td>\n",
              "      <td>7.895800</td>\n",
              "    </tr>\n",
              "    <tr>\n",
              "      <th>50%</th>\n",
              "      <td>28.000000</td>\n",
              "      <td>0.000000</td>\n",
              "      <td>0.000000</td>\n",
              "      <td>15.045800</td>\n",
              "    </tr>\n",
              "    <tr>\n",
              "      <th>75%</th>\n",
              "      <td>35.000000</td>\n",
              "      <td>1.000000</td>\n",
              "      <td>0.000000</td>\n",
              "      <td>31.387500</td>\n",
              "    </tr>\n",
              "    <tr>\n",
              "      <th>max</th>\n",
              "      <td>80.000000</td>\n",
              "      <td>8.000000</td>\n",
              "      <td>5.000000</td>\n",
              "      <td>512.329200</td>\n",
              "    </tr>\n",
              "  </tbody>\n",
              "</table>\n",
              "</div>"
            ],
            "text/plain": [
              "              age  n_siblings_spouses       parch        fare\n",
              "count  627.000000          627.000000  627.000000  627.000000\n",
              "mean    29.631308            0.545455    0.379585   34.385399\n",
              "std     12.511818            1.151090    0.792999   54.597730\n",
              "min      0.750000            0.000000    0.000000    0.000000\n",
              "25%     23.000000            0.000000    0.000000    7.895800\n",
              "50%     28.000000            0.000000    0.000000   15.045800\n",
              "75%     35.000000            1.000000    0.000000   31.387500\n",
              "max     80.000000            8.000000    5.000000  512.329200"
            ]
          },
          "metadata": {
            "tags": []
          },
          "execution_count": 5
        }
      ]
    },
    {
      "cell_type": "code",
      "metadata": {
        "colab": {
          "base_uri": "https://localhost:8080/"
        },
        "id": "dSdlULvY7m4W",
        "outputId": "a35758bc-1f9f-4dc1-e114-7eb0a8c83c40"
      },
      "source": [
        "dftrain.shape"
      ],
      "execution_count": 6,
      "outputs": [
        {
          "output_type": "execute_result",
          "data": {
            "text/plain": [
              "(627, 9)"
            ]
          },
          "metadata": {
            "tags": []
          },
          "execution_count": 6
        }
      ]
    },
    {
      "cell_type": "code",
      "metadata": {
        "colab": {
          "base_uri": "https://localhost:8080/",
          "height": 282
        },
        "id": "0X6CpiON7nIK",
        "outputId": "92746c0e-3b3f-4292-fbc8-26fcf48e58d8"
      },
      "source": [
        "dftrain.age.hist(bins=20)"
      ],
      "execution_count": 7,
      "outputs": [
        {
          "output_type": "execute_result",
          "data": {
            "text/plain": [
              "<matplotlib.axes._subplots.AxesSubplot at 0x7feee973f978>"
            ]
          },
          "metadata": {
            "tags": []
          },
          "execution_count": 7
        },
        {
          "output_type": "display_data",
          "data": {
            "image/png": "[encoded data removed]",
            "text/plain": [
              "<Figure size 432x288 with 1 Axes>"
            ]
          },
          "metadata": {
            "tags": [],
            "needs_background": "light"
          }
        }
      ]
    },
    {
      "cell_type": "markdown",
      "metadata": {
        "id": "yadGeZlp8htH"
      },
      "source": [
        "## Daten kategorisieren\n",
        "\n",
        "- Numerische Daten werden übernommen\n",
        "- Für nicht nummerische Daten werden die Unique Werte gesucht"
      ]
    },
    {
      "cell_type": "code",
      "metadata": {
        "colab": {
          "base_uri": "https://localhost:8080/"
        },
        "id": "XP0zr2Ze8lfs",
        "outputId": "a30d5935-553a-4a5e-81cf-90d9a4fa3ce4"
      },
      "source": [
        "CATEGORICAL_COLUMNS = ['sex', 'n_siblings_spouses', 'parch', 'class', 'deck',\n",
        "                       'embark_town', 'alone']\n",
        "NUMERIC_COLUMNS = ['age', 'fare']\n",
        "\n",
        "feature_columns = []\n",
        "for feature_name in CATEGORICAL_COLUMNS:\n",
        "  vocabulary = dftrain[feature_name].unique()  # gets a list of all unique values from given feature column\n",
        "  feature_columns.append(tf.feature_column.categorical_column_with_vocabulary_list(feature_name, vocabulary))\n",
        "\n",
        "\n",
        "for feature_name in NUMERIC_COLUMNS:\n",
        "  feature_columns.append(tf.feature_column.numeric_column(feature_name, dtype=tf.float32))\n",
        "\n",
        "print(feature_columns)"
      ],
      "execution_count": 8,
      "outputs": [
        {
          "output_type": "stream",
          "text": [
            "[VocabularyListCategoricalColumn(key='sex', vocabulary_list=('male', 'female'), dtype=tf.string, default_value=-1, num_oov_buckets=0), VocabularyListCategoricalColumn(key='n_siblings_spouses', vocabulary_list=(1, 0, 3, 4, 2, 5, 8), dtype=tf.int64, default_value=-1, num_oov_buckets=0), VocabularyListCategoricalColumn(key='parch', vocabulary_list=(0, 1, 2, 5, 3, 4), dtype=tf.int64, default_value=-1, num_oov_buckets=0), VocabularyListCategoricalColumn(key='class', vocabulary_list=('Third', 'First', 'Second'), dtype=tf.string, default_value=-1, num_oov_buckets=0), VocabularyListCategoricalColumn(key='deck', vocabulary_list=('unknown', 'C', 'G', 'A', 'B', 'D', 'F', 'E'), dtype=tf.string, default_value=-1, num_oov_buckets=0), VocabularyListCategoricalColumn(key='embark_town', vocabulary_list=('Southampton', 'Cherbourg', 'Queenstown', 'unknown'), dtype=tf.string, default_value=-1, num_oov_buckets=0), VocabularyListCategoricalColumn(key='alone', vocabulary_list=('n', 'y'), dtype=tf.string, default_value=-1, num_oov_buckets=0), NumericColumn(key='age', shape=(1,), default_value=None, dtype=tf.float32, normalizer_fn=None), NumericColumn(key='fare', shape=(1,), default_value=None, dtype=tf.float32, normalizer_fn=None)]\n"
          ],
          "name": "stdout"
        }
      ]
    },
    {
      "cell_type": "markdown",
      "metadata": {
        "id": "QICLGhbEBVwq"
      },
      "source": [
        "##Input Funktion"
      ]
    },
    {
      "cell_type": "code",
      "metadata": {
        "id": "do8bXKSVBVCy"
      },
      "source": [
        "def make_input_fn(data_df, label_df, num_epochs=15, shuffle=True, batch_size=32):\n",
        "  def input_function():  # inner function, this will be returned\n",
        "    ds = tf.data.Dataset.from_tensor_slices((dict(data_df), label_df))  # create tf.data.Dataset object with data and its label\n",
        "    if shuffle:\n",
        "      ds = ds.shuffle(1000)  # randomize order of data\n",
        "    ds = ds.batch(batch_size).repeat(num_epochs)  # split dataset into batches of 32 and repeat process for number of epochs\n",
        "    return ds  # return a batch of the dataset\n",
        "  return input_function  # return a function object for use\n",
        "\n",
        "train_input_fn = make_input_fn(dftrain, y_train)  # here we will call the input_function that was returned to us to get a dataset object we can feed to the model\n",
        "eval_input_fn = make_input_fn(dfeval, y_eval, num_epochs=1, shuffle=False)\n"
      ],
      "execution_count": 9,
      "outputs": []
    },
    {
      "cell_type": "markdown",
      "metadata": {
        "id": "rlFML1drCgNl"
      },
      "source": [
        "##Model erstellen"
      ]
    },
    {
      "cell_type": "code",
      "metadata": {
        "colab": {
          "base_uri": "https://localhost:8080/"
        },
        "id": "_JzHl6iwCjTQ",
        "outputId": "025683bd-c4d2-40bb-ba56-9032915fd5fc"
      },
      "source": [
        "linear_est = tf.estimator.LinearClassifier(feature_columns=feature_columns)"
      ],
      "execution_count": 10,
      "outputs": [
        {
          "output_type": "stream",
          "text": [
            "INFO:tensorflow:Using default config.\n",
            "WARNING:tensorflow:Using temporary folder as model directory: /tmp/tmpz_r0i4bv\n",
            "INFO:tensorflow:Using config: {'_model_dir': '/tmp/tmpz_r0i4bv', '_tf_random_seed': None, '_save_summary_steps': 100, '_save_checkpoints_steps': None, '_save_checkpoints_secs': 600, '_session_config': allow_soft_placement: true\n",
            "graph_options {\n",
            "  rewrite_options {\n",
            "    meta_optimizer_iterations: ONE\n",
            "  }\n",
            "}\n",
            ", '_keep_checkpoint_max': 5, '_keep_checkpoint_every_n_hours': 10000, '_log_step_count_steps': 100, '_train_distribute': None, '_device_fn': None, '_protocol': None, '_eval_distribute': None, '_experimental_distribute': None, '_experimental_max_worker_delay_secs': None, '_session_creation_timeout_secs': 7200, '_checkpoint_save_graph_def': True, '_service': None, '_cluster_spec': ClusterSpec({}), '_task_type': 'worker', '_task_id': 0, '_global_id_in_cluster': 0, '_master': '', '_evaluation_master': '', '_is_chief': True, '_num_ps_replicas': 0, '_num_worker_replicas': 1}\n"
          ],
          "name": "stdout"
        }
      ]
    },
    {
      "cell_type": "markdown",
      "metadata": {
        "id": "iACA-6z4CnnU"
      },
      "source": [
        "##Model trainieren"
      ]
    },
    {
      "cell_type": "code",
      "metadata": {
        "colab": {
          "base_uri": "https://localhost:8080/"
        },
        "id": "bqZz4QTHCpTP",
        "outputId": "18d5d178-4898-485e-cff6-ccf60c0c5b69"
      },
      "source": [
        "linear_est.train(train_input_fn)  # train\n"
      ],
      "execution_count": 11,
      "outputs": [
        {
          "output_type": "stream",
          "text": [
            "WARNING:tensorflow:From /usr/local/lib/python3.6/dist-packages/tensorflow/python/training/training_util.py:236: Variable.initialized_value (from tensorflow.python.ops.variables) is deprecated and will be removed in a future version.\n",
            "Instructions for updating:\n",
            "Use Variable.read_value. Variables in 2.X are initialized automatically both in eager and graph (inside tf.defun) contexts.\n",
            "INFO:tensorflow:Calling model_fn.\n"
          ],
          "name": "stdout"
        },
        {
          "output_type": "stream",
          "text": [
            "/usr/local/lib/python3.6/dist-packages/tensorflow/python/keras/engine/base_layer_v1.py:1727: UserWarning: `layer.add_variable` is deprecated and will be removed in a future version. Please use `layer.add_weight` method instead.\n",
            "  warnings.warn('`layer.add_variable` is deprecated and '\n"
          ],
          "name": "stderr"
        },
        {
          "output_type": "stream",
          "text": [
            "WARNING:tensorflow:From /usr/local/lib/python3.6/dist-packages/tensorflow/python/keras/optimizer_v2/ftrl.py:134: calling Constant.__init__ (from tensorflow.python.ops.init_ops) with dtype is deprecated and will be removed in a future version.\n",
            "Instructions for updating:\n",
            "Call initializer instance with the dtype argument instead of passing it to the constructor\n",
            "INFO:tensorflow:Done calling model_fn.\n",
            "INFO:tensorflow:Create CheckpointSaverHook.\n",
            "INFO:tensorflow:Graph was finalized.\n",
            "INFO:tensorflow:Running local_init_op.\n",
            "INFO:tensorflow:Done running local_init_op.\n",
            "INFO:tensorflow:Calling checkpoint listeners before saving checkpoint 0...\n",
            "INFO:tensorflow:Saving checkpoints for 0 into /tmp/tmpz_r0i4bv/model.ckpt.\n",
            "INFO:tensorflow:Calling checkpoint listeners after saving checkpoint 0...\n",
            "INFO:tensorflow:loss = 0.6931472, step = 0\n",
            "INFO:tensorflow:global_step/sec: 323.555\n",
            "INFO:tensorflow:loss = 0.7478743, step = 100 (0.311 sec)\n",
            "INFO:tensorflow:global_step/sec: 559.038\n",
            "INFO:tensorflow:loss = 0.49177542, step = 200 (0.179 sec)\n",
            "INFO:tensorflow:Calling checkpoint listeners before saving checkpoint 300...\n",
            "INFO:tensorflow:Saving checkpoints for 300 into /tmp/tmpz_r0i4bv/model.ckpt.\n",
            "INFO:tensorflow:Calling checkpoint listeners after saving checkpoint 300...\n",
            "INFO:tensorflow:Loss for final step: 0.2814839.\n"
          ],
          "name": "stdout"
        },
        {
          "output_type": "execute_result",
          "data": {
            "text/plain": [
              "<tensorflow_estimator.python.estimator.canned.linear.LinearClassifierV2 at 0x7feee919ca58>"
            ]
          },
          "metadata": {
            "tags": []
          },
          "execution_count": 11
        }
      ]
    },
    {
      "cell_type": "markdown",
      "metadata": {
        "id": "k90lCf4pJliP"
      },
      "source": [
        "##Model evaluieren"
      ]
    },
    {
      "cell_type": "code",
      "metadata": {
        "colab": {
          "base_uri": "https://localhost:8080/"
        },
        "id": "8uwWILO5Joo2",
        "outputId": "bfbb2f78-8ae9-4cb1-dfb2-489db403f4b7"
      },
      "source": [
        "result = linear_est.evaluate(eval_input_fn)  # get model metrics/stats by testing on tetsing data\n",
        "print (result)"
      ],
      "execution_count": 12,
      "outputs": [
        {
          "output_type": "stream",
          "text": [
            "INFO:tensorflow:Calling model_fn.\n"
          ],
          "name": "stdout"
        },
        {
          "output_type": "stream",
          "text": [
            "/usr/local/lib/python3.6/dist-packages/tensorflow/python/keras/engine/base_layer_v1.py:1727: UserWarning: `layer.add_variable` is deprecated and will be removed in a future version. Please use `layer.add_weight` method instead.\n",
            "  warnings.warn('`layer.add_variable` is deprecated and '\n"
          ],
          "name": "stderr"
        },
        {
          "output_type": "stream",
          "text": [
            "INFO:tensorflow:Done calling model_fn.\n",
            "INFO:tensorflow:Starting evaluation at 2021-01-23T17:36:30Z\n",
            "INFO:tensorflow:Graph was finalized.\n",
            "INFO:tensorflow:Restoring parameters from /tmp/tmpz_r0i4bv/model.ckpt-300\n",
            "INFO:tensorflow:Running local_init_op.\n",
            "INFO:tensorflow:Done running local_init_op.\n",
            "INFO:tensorflow:Inference Time : 0.63330s\n",
            "INFO:tensorflow:Finished evaluation at 2021-01-23-17:36:31\n",
            "INFO:tensorflow:Saving dict for global step 300: accuracy = 0.7689394, accuracy_baseline = 0.625, auc = 0.834068, auc_precision_recall = 0.7892343, average_loss = 0.47405815, global_step = 300, label/mean = 0.375, loss = 0.46269444, precision = 0.7111111, prediction/mean = 0.35522625, recall = 0.64646465\n",
            "INFO:tensorflow:Saving 'checkpoint_path' summary for global step 300: /tmp/tmpz_r0i4bv/model.ckpt-300\n",
            "{'accuracy': 0.7689394, 'accuracy_baseline': 0.625, 'auc': 0.834068, 'auc_precision_recall': 0.7892343, 'average_loss': 0.47405815, 'label/mean': 0.375, 'loss': 0.46269444, 'precision': 0.7111111, 'prediction/mean': 0.35522625, 'recall': 0.64646465, 'global_step': 300}\n"
          ],
          "name": "stdout"
        }
      ]
    },
    {
      "cell_type": "markdown",
      "metadata": {
        "id": "_Moj5A5wDcyK"
      },
      "source": [
        "##Predict"
      ]
    },
    {
      "cell_type": "code",
      "metadata": {
        "colab": {
          "base_uri": "https://localhost:8080/"
        },
        "id": "aGBPSE3JJErQ",
        "outputId": "8864314b-f120-4455-d683-8715ba05883f"
      },
      "source": [
        "result = list(linear_est.predict(eval_input_fn))\n",
        "i=0\n",
        "right = 0\n",
        "for r in result:\n",
        "  print (r['probabilities'][1], y_eval[i])\n",
        "  if (r['probabilities'][1] <0.5):\n",
        "    if y_eval[i]==0:\n",
        "      right += 1\n",
        "  else:\n",
        "    if y_eval[i]==1:\n",
        "      right += 1\n",
        "  i += 1\n",
        "\n",
        "print (right)"
      ],
      "execution_count": 13,
      "outputs": [
        {
          "output_type": "stream",
          "text": [
            "INFO:tensorflow:Calling model_fn.\n"
          ],
          "name": "stdout"
        },
        {
          "output_type": "stream",
          "text": [
            "/usr/local/lib/python3.6/dist-packages/tensorflow/python/keras/engine/base_layer_v1.py:1727: UserWarning: `layer.add_variable` is deprecated and will be removed in a future version. Please use `layer.add_weight` method instead.\n",
            "  warnings.warn('`layer.add_variable` is deprecated and '\n"
          ],
          "name": "stderr"
        },
        {
          "output_type": "stream",
          "text": [
            "INFO:tensorflow:Done calling model_fn.\n",
            "INFO:tensorflow:Graph was finalized.\n",
            "INFO:tensorflow:Restoring parameters from /tmp/tmpz_r0i4bv/model.ckpt-300\n",
            "INFO:tensorflow:Running local_init_op.\n",
            "INFO:tensorflow:Done running local_init_op.\n",
            "0.060745865 0\n",
            "0.2911906 0\n",
            "0.6924009 1\n",
            "0.5631997 1\n",
            "0.22356772 1\n",
            "0.7433442 1\n",
            "0.5077353 0\n",
            "0.09323833 0\n",
            "0.5878115 0\n",
            "0.7172656 1\n",
            "0.6531376 1\n",
            "0.093237124 0\n",
            "0.8524461 1\n",
            "0.34951714 0\n",
            "0.8348101 1\n",
            "0.46810445 0\n",
            "0.14217268 0\n",
            "0.81941223 1\n",
            "0.2864543 1\n",
            "0.07312333 0\n",
            "0.09607538 0\n",
            "0.0693662 0\n",
            "0.64828753 1\n",
            "0.05531783 0\n",
            "0.6736567 0\n",
            "0.54381174 0\n",
            "0.13478035 0\n",
            "0.1947795 0\n",
            "0.20851892 1\n",
            "0.83802664 1\n",
            "0.10816978 0\n",
            "0.76778185 1\n",
            "0.16264148 0\n",
            "0.6439698 1\n",
            "0.2238627 0\n",
            "0.07774056 1\n",
            "0.12621218 0\n",
            "0.09959543 0\n",
            "0.8895282 1\n",
            "0.07091014 0\n",
            "0.67938125 1\n",
            "0.0913063 1\n",
            "0.37404394 0\n",
            "0.23436101 0\n",
            "0.15433769 0\n",
            "0.81297314 1\n",
            "0.09323773 0\n",
            "0.2549734 0\n",
            "0.35929936 1\n",
            "0.33039096 0\n",
            "0.079070285 0\n",
            "0.19154695 0\n",
            "0.04568619 0\n",
            "0.074220195 0\n",
            "0.10198477 1\n",
            "0.08516644 0\n",
            "0.14132854 0\n",
            "0.94412595 1\n",
            "0.15382089 0\n",
            "0.07539939 0\n",
            "0.20933954 1\n",
            "0.51907736 1\n",
            "0.16718276 0\n",
            "0.80061316 1\n",
            "0.14537801 0\n",
            "0.61752385 0\n",
            "0.35588193 1\n",
            "0.07457748 0\n",
            "0.09909037 0\n",
            "0.6197246 1\n",
            "0.90158683 1\n",
            "0.3483162 0\n",
            "0.029921243 0\n",
            "0.09899132 1\n",
            "0.10817397 0\n",
            "0.07091554 1\n",
            "0.09047504 0\n",
            "0.09959543 1\n",
            "0.69668764 1\n",
            "0.9616591 1\n",
            "0.6253294 0\n",
            "0.34951714 0\n",
            "0.14246316 0\n",
            "0.9252738 0\n",
            "0.06855736 1\n",
            "0.41721022 1\n",
            "0.6096727 1\n",
            "0.06919637 0\n",
            "0.79168206 1\n",
            "0.82849956 1\n",
            "0.9597135 1\n",
            "0.15965496 0\n",
            "0.078341305 0\n",
            "0.9523237 1\n",
            "0.4561837 1\n",
            "0.6426133 1\n",
            "0.18500699 1\n",
            "0.048791107 0\n",
            "0.08779243 0\n",
            "0.253346 0\n",
            "0.07090714 0\n",
            "0.6712047 1\n",
            "0.39739493 0\n",
            "0.5489772 0\n",
            "0.6406942 1\n",
            "0.15719533 0\n",
            "0.8046699 1\n",
            "0.8252123 1\n",
            "0.7074953 1\n",
            "0.054008123 0\n",
            "0.7591788 1\n",
            "0.6663342 0\n",
            "0.65581447 0\n",
            "0.036674526 0\n",
            "0.8782664 1\n",
            "0.63542503 0\n",
            "0.07312265 0\n",
            "0.6400121 0\n",
            "0.07539683 0\n",
            "0.7736343 1\n",
            "0.50490695 0\n",
            "0.08889482 0\n",
            "0.41800758 1\n",
            "0.8286885 1\n",
            "0.08122109 0\n",
            "0.07539999 0\n",
            "0.6033497 1\n",
            "0.095056236 0\n",
            "0.08313899 0\n",
            "0.14946567 0\n",
            "0.05532009 0\n",
            "0.640728 0\n",
            "0.09047327 0\n",
            "0.03786336 0\n",
            "0.07091014 0\n",
            "0.0932345 0\n",
            "0.12181913 0\n",
            "0.12525216 0\n",
            "0.8983167 1\n",
            "0.07542785 0\n",
            "0.085169755 0\n",
            "0.6531361 0\n",
            "0.93575484 1\n",
            "0.07545722 0\n",
            "0.09224529 1\n",
            "0.07539999 0\n",
            "0.4268009 1\n",
            "0.09513625 0\n",
            "0.12520726 0\n",
            "0.053612463 0\n",
            "0.12520729 0\n",
            "0.07542549 0\n",
            "0.14309816 1\n",
            "0.08501114 0\n",
            "0.29338768 1\n",
            "0.14864068 1\n",
            "0.09030963 0\n",
            "0.14956298 0\n",
            "0.5938031 0\n",
            "0.12520729 0\n",
            "0.6531376 1\n",
            "0.099023946 0\n",
            "0.9291482 1\n",
            "0.73549145 0\n",
            "0.066667914 1\n",
            "0.90054905 1\n",
            "0.069240205 0\n",
            "0.1252165 0\n",
            "0.9409948 1\n",
            "0.09047575 0\n",
            "0.7389026 1\n",
            "0.07539939 0\n",
            "0.23452865 0\n",
            "0.04580571 0\n",
            "0.095056236 0\n",
            "0.62864596 0\n",
            "0.9010102 1\n",
            "0.13818114 0\n",
            "0.29437757 1\n",
            "0.0932374 0\n",
            "0.09327692 0\n",
            "0.23409747 0\n",
            "0.16228546 0\n",
            "0.951446 1\n",
            "0.46949735 0\n",
            "0.09899055 0\n",
            "0.25502515 1\n",
            "0.65313864 1\n",
            "0.72392064 0\n",
            "0.17186515 0\n",
            "0.20762399 0\n",
            "0.087748155 0\n",
            "0.097647026 0\n",
            "0.8683433 1\n",
            "0.04191861 0\n",
            "0.08388943 0\n",
            "0.45538598 0\n",
            "0.6531426 0\n",
            "0.22594343 0\n",
            "0.059787404 0\n",
            "0.13650116 0\n",
            "0.07358439 0\n",
            "0.04580571 0\n",
            "0.07834296 0\n",
            "0.94213915 1\n",
            "0.76938665 0\n",
            "0.08624903 0\n",
            "0.6422647 1\n",
            "0.37903887 1\n",
            "0.07358245 0\n",
            "0.112816125 0\n",
            "0.12600254 0\n",
            "0.09607938 0\n",
            "0.6531375 1\n",
            "0.07428499 0\n",
            "0.4442225 0\n",
            "0.379461 1\n",
            "0.0687585 1\n",
            "0.12863442 0\n",
            "0.7468656 1\n",
            "0.4719176 0\n",
            "0.086846545 0\n",
            "0.34581512 1\n",
            "0.19671467 0\n",
            "0.8924125 1\n",
            "0.865449 1\n",
            "0.10821154 0\n",
            "0.63415 0\n",
            "0.08517726 0\n",
            "0.12520726 0\n",
            "0.58535856 1\n",
            "0.09505619 0\n",
            "0.8484522 1\n",
            "0.80830485 1\n",
            "0.082622096 0\n",
            "0.6705931 1\n",
            "0.09078987 0\n",
            "0.24983057 1\n",
            "0.07773723 1\n",
            "0.6705966 0\n",
            "0.51080364 0\n",
            "0.047271144 0\n",
            "0.17997634 0\n",
            "0.81726825 1\n",
            "0.33156717 1\n",
            "0.79303586 1\n",
            "0.34467173 1\n",
            "0.06683942 1\n",
            "0.09607575 0\n",
            "0.105061434 0\n",
            "0.01746314 0\n",
            "0.8541229 0\n",
            "0.66797537 0\n",
            "0.12520729 0\n",
            "0.1936751 0\n",
            "0.8496445 1\n",
            "0.30895895 0\n",
            "0.075405724 0\n",
            "0.79809046 1\n",
            "0.764822 1\n",
            "0.06463636 0\n",
            "0.44091088 0\n",
            "0.15382089 0\n",
            "0.38881242 1\n",
            "203\n"
          ],
          "name": "stdout"
        }
      ]
    },
    {
      "cell_type": "code",
      "metadata": {
        "colab": {
          "base_uri": "https://localhost:8080/"
        },
        "id": "_SetD_idQtOk",
        "outputId": "fb68dfb5-19e4-43c8-a569-0479d1b39b2a"
      },
      "source": [
        "y_eval.head\n",
        "print (y_eval[0])"
      ],
      "execution_count": 14,
      "outputs": [
        {
          "output_type": "stream",
          "text": [
            "0\n"
          ],
          "name": "stdout"
        }
      ]
    }
  ]
}